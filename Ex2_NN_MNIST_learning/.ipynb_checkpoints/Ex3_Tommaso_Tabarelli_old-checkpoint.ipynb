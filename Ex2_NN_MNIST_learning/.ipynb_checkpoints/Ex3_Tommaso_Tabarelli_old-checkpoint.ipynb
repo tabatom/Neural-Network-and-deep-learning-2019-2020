{
 "cells": [
  {
   "cell_type": "code",
   "execution_count": 4,
   "metadata": {
    "scrolled": true
   },
   "outputs": [],
   "source": [
    "# -*- coding: utf-8 -*-\n",
    "\n",
    "\"\"\"\n",
    "NEURAL NETWORKS AND DEEP LEARNING\n",
    "\n",
    "ICT FOR LIFE AND HEALTH - Department of Information Engineering\n",
    "PHYSICS OF DATA - Department of Physics and Astronomy\n",
    "COGNITIVE NEUROSCIENCE AND CLINICAL NEUROPSYCHOLOGY - Department of Psychology\n",
    "\n",
    "A.A. 2019/20 (6 CFU)\n",
    "Dr. Alberto Testolin, Dr. Federico Chiariotti\n",
    "\n",
    "Author: Dr. Matteo Gadaleta\n",
    "Modified by: Tommaso Tabarelli\n",
    "\n",
    "Lab. 03 - Introduction to PyTorch (part 2)\n",
    " \n",
    "\"\"\"\n",
    "\n",
    "import numpy as np\n",
    "import matplotlib.pyplot as plt\n",
    "import h5py\n",
    "import scipy.io\n",
    "\n",
    "import torch\n",
    "import torch.nn as nn\n",
    "import torch.optim as optim\n",
    "\n",
    "np.random.seed(3123)"
   ]
  },
  {
   "cell_type": "code",
   "execution_count": 5,
   "metadata": {},
   "outputs": [],
   "source": [
    "#%% Training and test data\n",
    "\n",
    "# Set random seed\n",
    "np.random.seed(3123)\n",
    "\n",
    "\n",
    "# Loading MNIST data (not working, giving up)\n",
    "\n",
    "#MNIST_h5 = h5py.File('MNIST.mat','r')\n",
    "#MNIST_ = MNIST_h5.get('MNIST_h5/variable1')\n",
    "#MNIST_data = np.array(MNIST_) # For converting to a NumPy array\n",
    "\n",
    "\n",
    "\n",
    "# Loading MNIST data\n",
    "\n",
    "MNIST_ = scipy.io.loadmat('MNIST.mat')"
   ]
  },
  {
   "cell_type": "code",
   "execution_count": 16,
   "metadata": {},
   "outputs": [
    {
     "name": "stdout",
     "output_type": "stream",
     "text": [
      "<class 'dict'>\n",
      "\n",
      "----------\n",
      "\n",
      "__header__\n",
      "__version__\n",
      "__globals__\n",
      "input_images\n",
      "output_labels\n",
      "\n",
      "----------\n",
      "\n",
      "b'MATLAB 5.0 MAT-file, Platform: PCWIN64, Created on: Mon Nov  4 16:38:51 2019'\n",
      "1.0\n",
      "[]\n",
      "[[0. 0. 0. ... 0. 0. 0.]\n",
      " [0. 0. 0. ... 0. 0. 0.]\n",
      " [0. 0. 0. ... 0. 0. 0.]\n",
      " ...\n",
      " [0. 0. 0. ... 0. 0. 0.]\n",
      " [0. 0. 0. ... 0. 0. 0.]\n",
      " [0. 0. 0. ... 0. 0. 0.]]\n",
      "[[0.]\n",
      " [8.]\n",
      " [4.]\n",
      " ...\n",
      " [9.]\n",
      " [2.]\n",
      " [1.]]\n"
     ]
    }
   ],
   "source": [
    "# Inspecting the MNIST data type and format\n",
    "\n",
    "print(type(MNIST_))\n",
    "\n",
    "print(\"\\n----------\\n\")\n",
    "\n",
    "for kk,vv in zip(MNIST_.keys(), MNIST_.values()):\n",
    "    print(kk)\n",
    "\n",
    "print(\"\\n----------\\n\")\n",
    "    \n",
    "for kk,vv in zip(MNIST_.keys(), MNIST_.values()):\n",
    "    print(vv)"
   ]
  },
  {
   "cell_type": "code",
   "execution_count": null,
   "metadata": {},
   "outputs": [],
   "source": [
    "MNIST_imgs = MNIST_['input_images']\n",
    "MNIST_labels = MNIST_['output_labels']\n",
    "\n",
    "print(type(MNIST_imgs))\n",
    "print(type(MNIST_labels))\n",
    "\n",
    "print(MNIST_imgs.shape)\n",
    "print(MNIST_labels.shape)"
   ]
  },
  {
   "cell_type": "code",
   "execution_count": 60,
   "metadata": {},
   "outputs": [],
   "source": [
    "# Turning all images\n",
    "\n",
    "imgs = np.zeros((MNIST_imgs.shape[0], 28, 28))\n",
    "\n",
    "img_NN = np.zeros((len(imgs), imgs.shape[1]*imgs.shape[2]))\n",
    "\n",
    "for ii in range(len(imgs)):\n",
    "    for i_row in range(len(imgs[ii])):\n",
    "        imgs[ii][i_row] = MNIST_imgs[ii].reshape(28,28)[:,28-1-i_row].copy()\n",
    "    # Flattening new images to feed NN\n",
    "    img_NN[ii] = imgs[ii].flatten()"
   ]
  },
  {
   "cell_type": "code",
   "execution_count": 62,
   "metadata": {},
   "outputs": [
    {
     "data": {
      "text/plain": [
       "(60000, 784)"
      ]
     },
     "execution_count": 62,
     "metadata": {},
     "output_type": "execute_result"
    }
   ],
   "source": [
    "img_NN.shape"
   ]
  },
  {
   "cell_type": "code",
   "execution_count": 63,
   "metadata": {},
   "outputs": [],
   "source": [
    "# Function to turn images\n",
    "def turning_img(img, shape):\n",
    "    turned_img = np.zeros(shape)\n",
    "    \n",
    "    for i_row in range(len(img)):\n",
    "        turned_img[i_row] = img[:,28-1-i_row].copy()\n",
    "    \n",
    "    return turned_img"
   ]
  },
  {
   "cell_type": "code",
   "execution_count": 64,
   "metadata": {},
   "outputs": [
    {
     "name": "stdout",
     "output_type": "stream",
     "text": [
      "Label:  3\n"
     ]
    },
    {
     "data": {
      "image/png": "[encoded data removed]",
      "text/plain": [
       "<Figure size 432x288 with 1 Axes>"
      ]
     },
     "metadata": {
      "needs_background": "light"
     },
     "output_type": "display_data"
    },
    {
     "name": "stdout",
     "output_type": "stream",
     "text": [
      "Label:  3\n"
     ]
    },
    {
     "data": {
      "image/png": "[encoded data removed]",
      "text/plain": [
       "<Figure size 432x288 with 1 Axes>"
      ]
     },
     "metadata": {
      "needs_background": "light"
     },
     "output_type": "display_data"
    }
   ],
   "source": [
    "# Visualizing images\n",
    "\n",
    "index_try = 11\n",
    "\n",
    "print(\"Label: \", int(MNIST_labels[index_try][0]))\n",
    "plt.imshow(MNIST_imgs[index_try].reshape(28,28))\n",
    "plt.show()\n",
    "        \n",
    "print(\"Label: \", int(MNIST_labels[index_try][0]))\n",
    "plt.imshow(imgs[index_try].flatten().reshape(28,28))\n",
    "plt.show()"
   ]
  },
  {
   "cell_type": "code",
   "execution_count": null,
   "metadata": {},
   "outputs": [],
   "source": [
    "#%% Neural Network\n",
    "\n",
    "### Define the network class\n",
    "class Net(nn.Module):\n",
    "    \n",
    "    def __init__(self, Ni, Nh1, Nh2, No):\n",
    "        super().__init__()\n",
    "        \n",
    "        self.fc1 = nn.Linear(in_features=Ni, out_features=Nh1)\n",
    "        self.fc2 = nn.Linear(Nh1, Nh2)\n",
    "        self.fc3 = nn.Linear(Nh2, No)\n",
    "        \n",
    "        self.act = nn.Sigmoid()\n",
    "        \n",
    "    def forward(self, x, additional_out=False):\n",
    "        \n",
    "        x = self.act(self.fc1(x))\n",
    "        x = self.act(self.fc2(x))\n",
    "        out = self.fc3(x)\n",
    "        \n",
    "        if additional_out:\n",
    "            return out, x\n",
    "        \n",
    "        return out\n",
    "\n",
    "### Initialize the network\n",
    "# Inputs have 784 (=28*28) flattened inputs\n",
    "# Outputs should be the label ('0'--->'9')\n",
    "Ni = 784\n",
    "Nh1 = 24\n",
    "Nh2 = 12\n",
    "No = 10\n",
    "net = Net(Ni, Nh1, Nh2, No)\n",
    "\n",
    "### Define the loss function (the most used are already implemented in pytorch, see the doc!)\n",
    "loss_fn = nn.CrossEntropyLoss()\n",
    "\n",
    "\n",
    "### Define an optimizer\n",
    "lr = 1e-2\n",
    "optimizer = torch.optim.Adam(net.parameters(), lr=lr, weight_decay=5e-4)"
   ]
  }
 ],
 "metadata": {
  "kernelspec": {
   "display_name": "Python 3",
   "language": "python",
   "name": "python3"
  },
  "language_info": {
   "codemirror_mode": {
    "name": "ipython",
    "version": 3
   },
   "file_extension": ".py",
   "mimetype": "text/x-python",
   "name": "python",
   "nbconvert_exporter": "python",
   "pygments_lexer": "ipython3",
   "version": "3.7.4"
  }
 },
 "nbformat": 4,
 "nbformat_minor": 2
}
