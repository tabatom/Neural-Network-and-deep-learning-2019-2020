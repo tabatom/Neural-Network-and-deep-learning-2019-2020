{
 "cells": [
  {
   "cell_type": "code",
   "execution_count": 1,
   "metadata": {},
   "outputs": [],
   "source": [
    "# -*- coding: utf-8 -*-\n",
    "\n",
    "\"\"\"\n",
    "NEURAL NETWORKS AND DEEP LEARNING\n",
    "\n",
    "ICT FOR LIFE AND HEALTH - Department of Information Engineering\n",
    "PHYSICS OF DATA - Department of Physics and Astronomy\n",
    "COGNITIVE NEUROSCIENCE AND CLINICAL NEUROPSYCHOLOGY - Department of Psychology\n",
    "\n",
    "A.A. 2019/20 (6 CFU)\n",
    "Dr. Alberto Testolin, Dr. Federico Chiariotti\n",
    "\n",
    "Author: Dr. Matteo Gadaleta\n",
    "Modified by: Tommaso Tabarelli\n",
    "\n",
    "Lab. 03 - Introduction to PyTorch (part 2)\n",
    " \n",
    "\"\"\"\n",
    "\n",
    "import numpy as np\n",
    "import matplotlib.pyplot as plt\n",
    "import h5py\n",
    "import scipy.io\n",
    "\n",
    "import torch\n",
    "import torch.nn as nn\n",
    "import torch.optim as optim"
   ]
  },
  {
   "cell_type": "code",
   "execution_count": 2,
   "metadata": {},
   "outputs": [],
   "source": [
    "# Set random seed\n",
    "np.random.seed(3123)\n",
    "\n",
    "# Loading MNIST data\n",
    "MNIST_ = scipy.io.loadmat('MNIST.mat')"
   ]
  },
  {
   "cell_type": "code",
   "execution_count": 3,
   "metadata": {},
   "outputs": [
    {
     "name": "stdout",
     "output_type": "stream",
     "text": [
      "<class 'dict'>\n",
      "\n",
      "----------\n",
      "\n",
      "__header__\n",
      "__version__\n",
      "__globals__\n",
      "input_images\n",
      "output_labels\n",
      "\n",
      "----------\n",
      "\n",
      "b'MATLAB 5.0 MAT-file, Platform: PCWIN64, Created on: Mon Nov  4 16:38:51 2019'\n",
      "1.0\n",
      "[]\n",
      "[[0. 0. 0. ... 0. 0. 0.]\n",
      " [0. 0. 0. ... 0. 0. 0.]\n",
      " [0. 0. 0. ... 0. 0. 0.]\n",
      " ...\n",
      " [0. 0. 0. ... 0. 0. 0.]\n",
      " [0. 0. 0. ... 0. 0. 0.]\n",
      " [0. 0. 0. ... 0. 0. 0.]]\n",
      "[[0.]\n",
      " [8.]\n",
      " [4.]\n",
      " ...\n",
      " [9.]\n",
      " [2.]\n",
      " [1.]]\n"
     ]
    }
   ],
   "source": [
    "# Inspecting the MNIST data type and format\n",
    "\n",
    "print(type(MNIST_))\n",
    "\n",
    "print(\"\\n----------\\n\")\n",
    "\n",
    "for kk,vv in zip(MNIST_.keys(), MNIST_.values()):\n",
    "    print(kk)\n",
    "\n",
    "print(\"\\n----------\\n\")\n",
    "    \n",
    "for kk,vv in zip(MNIST_.keys(), MNIST_.values()):\n",
    "    print(vv)"
   ]
  },
  {
   "cell_type": "code",
   "execution_count": 4,
   "metadata": {},
   "outputs": [
    {
     "name": "stdout",
     "output_type": "stream",
     "text": [
      "<class 'numpy.ndarray'>\n",
      "<class 'numpy.ndarray'>\n",
      "(60000, 784)\n",
      "(60000, 1)\n"
     ]
    }
   ],
   "source": [
    "MNIST_imgs = MNIST_['input_images']\n",
    "MNIST_labels = MNIST_['output_labels']\n",
    "\n",
    "print(type(MNIST_imgs))\n",
    "print(type(MNIST_labels))\n",
    "\n",
    "print(MNIST_imgs.shape)\n",
    "print(MNIST_labels.shape)"
   ]
  },
  {
   "cell_type": "code",
   "execution_count": 5,
   "metadata": {},
   "outputs": [
    {
     "name": "stdout",
     "output_type": "stream",
     "text": [
      "Label:  2\n"
     ]
    },
    {
     "data": {
      "image/png": "[encoded data removed]",
      "text/plain": [
       "<Figure size 432x288 with 1 Axes>"
      ]
     },
     "metadata": {
      "needs_background": "light"
     },
     "output_type": "display_data"
    }
   ],
   "source": [
    "# Visualizing images\n",
    "\n",
    "index_try = 91\n",
    "\n",
    "print(\"Label: \", int(MNIST_labels[index_try][0]))\n",
    "plt.imshow(MNIST_imgs[index_try].reshape(28,28))\n",
    "plt.show()"
   ]
  },
  {
   "cell_type": "code",
   "execution_count": 41,
   "metadata": {},
   "outputs": [],
   "source": [
    "# Copying and shuffling\n",
    "X = MNIST_imgs.copy()\n",
    "Y = MNIST_labels.copy()"
   ]
  },
  {
   "cell_type": "code",
   "execution_count": 42,
   "metadata": {},
   "outputs": [
    {
     "name": "stdout",
     "output_type": "stream",
     "text": [
      "Label:  1\n"
     ]
    },
    {
     "data": {
      "image/png": "[encoded data removed]",
      "text/plain": [
       "<Figure size 432x288 with 1 Axes>"
      ]
     },
     "metadata": {
      "needs_background": "light"
     },
     "output_type": "display_data"
    }
   ],
   "source": [
    "np.random.seed(3123)\n",
    "np.random.shuffle(X)\n",
    "np.random.seed(3123)\n",
    "np.random.shuffle(Y)\n",
    "\n",
    "# Checking labels are still coherent\n",
    "index_try = 91\n",
    "\n",
    "print(\"Label: \", int(labels[index_try]))\n",
    "plt.imshow(imgs[index_try].reshape(28,28))\n",
    "plt.show()"
   ]
  },
  {
   "cell_type": "code",
   "execution_count": 50,
   "metadata": {},
   "outputs": [
    {
     "name": "stdout",
     "output_type": "stream",
     "text": [
      "54000\n",
      "54000\n",
      "6000\n",
      "6000\n"
     ]
    }
   ],
   "source": [
    "# Splitting train 0.9*len(MNIST_data) - test 0.1*len(MNIST_data)\n",
    "x_train = X[:int(0.9*len(MNIST_imgs))]\n",
    "y_train = X[:int(0.9*len(MNIST_labels))]\n",
    "\n",
    "x_test = X[int(0.9*len(MNIST_imgs)):]\n",
    "y_test = X[int(0.9*len(MNIST_labels)):]\n",
    "\n",
    "# Checking\n",
    "print(len(x_train))\n",
    "print(len(y_train))\n",
    "print(len(x_test))\n",
    "print(len(y_test))"
   ]
  },
  {
   "cell_type": "code",
   "execution_count": 38,
   "metadata": {},
   "outputs": [],
   "source": [
    "#%% Neural Network\n",
    "\n",
    "### Define the network class\n",
    "class Net(nn.Module):\n",
    "    \n",
    "    def __init__(self, Ni, Nh1, Nh2, No):\n",
    "        super().__init__()\n",
    "        \n",
    "        self.fc1 = nn.Linear(in_features=Ni, out_features=Nh1)\n",
    "        self.fc2 = nn.Linear(Nh1, Nh2)\n",
    "        self.fc3 = nn.Linear(Nh2, No)\n",
    "        \n",
    "        self.act = nn.Sigmoid()\n",
    "        \n",
    "    def forward(self, x, additional_out=False):\n",
    "        \n",
    "        x = self.act(self.fc1(x))\n",
    "        x = self.act(self.fc2(x))\n",
    "        out = self.fc3(x)\n",
    "        \n",
    "        if additional_out:\n",
    "            return out, x\n",
    "        \n",
    "        return out"
   ]
  },
  {
   "cell_type": "code",
   "execution_count": 39,
   "metadata": {},
   "outputs": [],
   "source": [
    "### Initialize the network\n",
    "# Inputs have 784 (=28*28) flattened inputs\n",
    "# Outputs should be the label ('0'--->'9')\n",
    "Ni = 784\n",
    "Nh1 = 24\n",
    "Nh2 = 12\n",
    "No = 10\n",
    "net = Net(Ni, Nh1, Nh2, No)\n",
    "\n",
    "### Define the loss function (the most used are already implemented in pytorch, see the doc!)\n",
    "loss_fn = nn.CrossEntropyLoss()\n",
    "\n",
    "### Define an optimizer\n",
    "lr = 1e-2\n",
    "optimizer = torch.optim.Adam(net.parameters(), lr=lr, weight_decay=5e-4)"
   ]
  },
  {
   "cell_type": "code",
   "execution_count": null,
   "metadata": {},
   "outputs": [],
   "source": [
    "### Training\n",
    "train_loss_log = []\n",
    "test_loss_log = []\n",
    "conc_out = torch.Tensor().float()\n",
    "conc_label = torch.Tensor().long()\n",
    "num_epochs = 200\n",
    "\n",
    "for num_epoch in range(num_epochs):\n",
    "    \n",
    "    print('Epoch', num_epoch + 1)\n",
    "    # Training\n",
    "    net.train() # Training mode (e.g. enable dropout)\n",
    "    # Eventually clear previous recorded gradients\n",
    "    optimizer.zero_grad()\n",
    "    conc_out = torch.Tensor().float()\n",
    "    conc_label = torch.Tensor().long()\n",
    "    for i in range(len(x_train)):\n",
    "        input_train = torch.tensor(x_train[i]).float().view(-1, 784)\n",
    "        label_train = torch.tensor(y_train[i]).long().view(-1, 1).squeeze(1)\n",
    "        # Forward pass\n",
    "        out = net(input_train)\n",
    "        conc_out = torch.cat([conc_out, out])\n",
    "        conc_label = torch.cat([conc_label, label_train])\n",
    "    # Evaluate loss\n",
    "    loss = loss_fn(conc_out, conc_label)\n",
    "    # Backward pass\n",
    "    loss.backward()\n",
    "    # Update\n",
    "    optimizer.step()\n",
    "    # Print loss\n",
    "    print('\\t Training loss ():', float(loss.data))\n",
    "        \n",
    "    # Validation\n",
    "    net.train() # Evaluation mode (e.g. disable dropout)\n",
    "    with torch.no_grad(): # No need to track the gradients\n",
    "        conc_out = torch.Tensor().float()\n",
    "        conc_label = torch.Tensor().long()\n",
    "        for i in range(0, x_valid):\n",
    "            # Get input and output arrays\n",
    "            input_test = torch.tensor([x_test[i],y_test[i]]).float().view(-1, 2)\n",
    "            label_test = torch.tensor(class_test[i]).long().view(-1, 1).squeeze(1)\n",
    "            # Forward pass\n",
    "            out = net(input_test)\n",
    "            # Concatenate with previous outputs\n",
    "            conc_out = torch.cat([conc_out, out])\n",
    "            conc_label = torch.cat([conc_label, label_test])\n",
    "        # Evaluate global loss\n",
    "        test_loss = loss_fn(conc_out, conc_label)\n",
    "        # Print loss\n",
    "        print('\\t Validation loss:', float(test_loss.data))\n",
    "        \n",
    "    # Log\n",
    "    train_loss_log.append(float(loss.data))\n",
    "    test_loss_log.append(float(test_loss.data))\n",
    "    \n",
    "### Missing a proper test...\n",
    "\n",
    "softmax = nn.functional.softmax(conc_out, dim=1).squeeze().numpy()\n",
    "errors = conc_label-(conc_out[:,0]<conc_out[:,1]).long()\n",
    "print('Class probabilities (softmax):\\n ', softmax)\n",
    "print('Real classes: ', conc_label)\n",
    "print('Errors: ', errors)\n",
    "        \n",
    "# Plot losses\n",
    "plt.close('all')\n",
    "plt.figure(figsize=(12,8))\n",
    "plt.semilogy(train_loss_log, label='Train loss')\n",
    "plt.semilogy(test_loss_log, label='Test loss')\n",
    "plt.xlabel('Epoch')\n",
    "plt.ylabel('Loss')\n",
    "plt.grid()\n",
    "plt.legend()\n",
    "plt.tight_layout()\n",
    "plt.show()\n",
    "\n",
    "print(np.where(errors==1))\n",
    "print(np.where(errors==-1))"
   ]
  },
  {
   "cell_type": "code",
   "execution_count": null,
   "metadata": {},
   "outputs": [],
   "source": [
    "### Plot\n",
    "plt.close('all')\n",
    "plt.figure(figsize=(12,8))\n",
    "x_highres = np.linspace(0,1,1000)\n",
    "plt.plot(x_highres, poly_model(x_highres, beta_true), color='b', ls='--', label='True data model')\n",
    "plt.plot(x_test[np.intersect1d(np.where(errors==0), np.where(conc_label==0))], y_test[np.intersect1d(np.where(errors==0), np.where(conc_label==0))], color='r', ls='', marker='.', label='Test data points - class 0 (correct)')\n",
    "plt.plot(x_test[np.intersect1d(np.where(errors==0), np.where(conc_label==1))], y_test[np.intersect1d(np.where(errors==0), np.where(conc_label==1))], color='b', ls='', marker='.', label='Test data points - class 1 (correct)')\n",
    "plt.plot(x_test[np.where(errors==-1)], y_test[np.where(errors==-1)], color='y', ls='', marker='.', label='Test data points - class 0 (misclassified)')\n",
    "plt.plot(x_test[np.where(errors==1)], y_test[np.where(errors==1)], color='g', ls='', marker='.', label='Test data points - class 1 (misclassified)')\n",
    "plt.xlabel('x')\n",
    "plt.ylabel('y')\n",
    "plt.grid()\n",
    "plt.legend()\n",
    "plt.tight_layout()\n",
    "plt.show()"
   ]
  }
 ],
 "metadata": {
  "kernelspec": {
   "display_name": "Python 3",
   "language": "python",
   "name": "python3"
  },
  "language_info": {
   "codemirror_mode": {
    "name": "ipython",
    "version": 3
   },
   "file_extension": ".py",
   "mimetype": "text/x-python",
   "name": "python",
   "nbconvert_exporter": "python",
   "pygments_lexer": "ipython3",
   "version": "3.7.4"
  }
 },
 "nbformat": 4,
 "nbformat_minor": 2
}
